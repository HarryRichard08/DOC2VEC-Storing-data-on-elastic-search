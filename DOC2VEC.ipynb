{
 "cells": [
  {
   "cell_type": "code",
   "execution_count": 3,
   "metadata": {},
   "outputs": [
    {
     "name": "stderr",
     "output_type": "stream",
     "text": [
      "C:\\Users\\1686110\\Anaconda3\\lib\\site-packages\\gensim\\similarities\\__init__.py:15: UserWarning: The gensim.similarities.levenshtein submodule is disabled, because the optional Levenshtein package <https://pypi.org/project/python-Levenshtein/> is unavailable. Install Levenhstein (e.g. `pip install python-Levenshtein`) to suppress this warning.\n",
      "  warnings.warn(msg)\n"
     ]
    }
   ],
   "source": [
    "#Import all the dependencies\n",
    "from gensim.models.doc2vec import Doc2Vec, TaggedDocument\n",
    "from nltk.tokenize import word_tokenize"
   ]
  },
  {
   "cell_type": "code",
   "execution_count": 2,
   "metadata": {},
   "outputs": [
    {
     "name": "stdout",
     "output_type": "stream",
     "text": [
      "Collecting gensim\n",
      "  Downloading gensim-4.0.1-cp38-cp38-win_amd64.whl (23.9 MB)\n",
      "Requirement already satisfied: numpy>=1.11.3 in c:\\users\\1686110\\anaconda3\\lib\\site-packages (from gensim) (1.19.2)\n",
      "Collecting smart-open>=1.8.1\n",
      "  Downloading smart_open-5.0.0-py3-none-any.whl (56 kB)\n",
      "Requirement already satisfied: scipy>=0.18.1 in c:\\users\\1686110\\anaconda3\\lib\\site-packages (from gensim) (1.5.2)\n",
      "Requirement already satisfied: Cython==0.29.21 in c:\\users\\1686110\\anaconda3\\lib\\site-packages (from gensim) (0.29.21)\n",
      "Installing collected packages: smart-open, gensim\n",
      "Successfully installed gensim-4.0.1 smart-open-5.0.0\n"
     ]
    }
   ],
   "source": [
    "!pip install gensim"
   ]
  },
  {
   "cell_type": "code",
   "execution_count": 35,
   "metadata": {},
   "outputs": [],
   "source": [
    "data = [\"I love machine learning. Its awesome.\",\n",
    "        \"I love coding in python\",\n",
    "        \"I love building chatbots\",\n",
    "        \"they chat amagingly well\"]"
   ]
  },
  {
   "cell_type": "code",
   "execution_count": 5,
   "metadata": {},
   "outputs": [],
   "source": [
    "tagged_data = [TaggedDocument(words=word_tokenize(_d.lower()), tags=[str(i)]) for i, _d in enumerate(data)]"
   ]
  },
  {
   "cell_type": "code",
   "execution_count": 6,
   "metadata": {},
   "outputs": [
    {
     "data": {
      "text/plain": [
       "[TaggedDocument(words=['i', 'love', 'machine', 'learning', '.', 'its', 'awesome', '.'], tags=['0']),\n",
       " TaggedDocument(words=['i', 'love', 'coding', 'in', 'python'], tags=['1']),\n",
       " TaggedDocument(words=['i', 'love', 'building', 'chatbots'], tags=['2']),\n",
       " TaggedDocument(words=['they', 'chat', 'amagingly', 'well'], tags=['3'])]"
      ]
     },
     "execution_count": 6,
     "metadata": {},
     "output_type": "execute_result"
    }
   ],
   "source": [
    "tagged_data"
   ]
  },
  {
   "cell_type": "code",
   "execution_count": 11,
   "metadata": {},
   "outputs": [
    {
     "name": "stdout",
     "output_type": "stream",
     "text": [
      "iteration 0\n",
      "iteration 1\n",
      "iteration 2\n",
      "iteration 3\n",
      "iteration 4\n",
      "iteration 5\n",
      "iteration 6\n",
      "iteration 7\n",
      "iteration 8\n",
      "iteration 9\n",
      "iteration 10\n",
      "iteration 11\n",
      "iteration 12\n",
      "iteration 13\n",
      "iteration 14\n",
      "iteration 15\n",
      "iteration 16\n",
      "iteration 17\n",
      "iteration 18\n",
      "iteration 19\n",
      "iteration 20\n",
      "iteration 21\n",
      "iteration 22\n",
      "iteration 23\n",
      "iteration 24\n",
      "iteration 25\n",
      "iteration 26\n",
      "iteration 27\n",
      "iteration 28\n",
      "iteration 29\n",
      "iteration 30\n",
      "iteration 31\n",
      "iteration 32\n",
      "iteration 33\n",
      "iteration 34\n",
      "iteration 35\n",
      "iteration 36\n",
      "iteration 37\n",
      "iteration 38\n",
      "iteration 39\n",
      "iteration 40\n",
      "iteration 41\n",
      "iteration 42\n",
      "iteration 43\n",
      "iteration 44\n",
      "iteration 45\n",
      "iteration 46\n",
      "iteration 47\n",
      "iteration 48\n",
      "iteration 49\n",
      "iteration 50\n",
      "iteration 51\n",
      "iteration 52\n",
      "iteration 53\n",
      "iteration 54\n",
      "iteration 55\n",
      "iteration 56\n",
      "iteration 57\n",
      "iteration 58\n",
      "iteration 59\n",
      "iteration 60\n",
      "iteration 61\n",
      "iteration 62\n",
      "iteration 63\n",
      "iteration 64\n",
      "iteration 65\n",
      "iteration 66\n",
      "iteration 67\n",
      "iteration 68\n",
      "iteration 69\n",
      "iteration 70\n",
      "iteration 71\n",
      "iteration 72\n",
      "iteration 73\n",
      "iteration 74\n",
      "iteration 75\n",
      "iteration 76\n",
      "iteration 77\n",
      "iteration 78\n",
      "iteration 79\n",
      "iteration 80\n",
      "iteration 81\n",
      "iteration 82\n",
      "iteration 83\n",
      "iteration 84\n",
      "iteration 85\n",
      "iteration 86\n",
      "iteration 87\n",
      "iteration 88\n",
      "iteration 89\n",
      "iteration 90\n",
      "iteration 91\n",
      "iteration 92\n",
      "iteration 93\n",
      "iteration 94\n",
      "iteration 95\n",
      "iteration 96\n",
      "iteration 97\n",
      "iteration 98\n",
      "iteration 99\n",
      "Model Saved\n"
     ]
    }
   ],
   "source": [
    "max_epochs = 100\n",
    "vec_size = 20\n",
    "alpha = 0.025\n",
    "\n",
    "model = Doc2Vec(vector_size=vec_size,\n",
    "                alpha=alpha, \n",
    "                min_alpha=0.00025,\n",
    "                min_count=1,\n",
    "                dm =1)\n",
    "  \n",
    "model.build_vocab(tagged_data)\n",
    "\n",
    "for epoch in range(max_epochs):\n",
    "    print('iteration {0}'.format(epoch))\n",
    "    model.train(tagged_data,\n",
    "                total_examples=model.corpus_count,\n",
    "                epochs=model.epochs)\n",
    "    # decrease the learning rate\n",
    "    model.alpha -= 0.0002\n",
    "    # fix the learning rate, no decay\n",
    "    model.min_alpha = model.alpha\n",
    "\n",
    "model.save(\"d2v.model\")\n",
    "print(\"Model Saved\")"
   ]
  },
  {
   "cell_type": "code",
   "execution_count": 17,
   "metadata": {},
   "outputs": [],
   "source": [
    "model.save(\"d2v.model\")\n",
    "# [TaggedDocument(words=['i', 'love', 'machine', 'learning', '.', 'its', 'awesome', '.'], tags=['0']),\n",
    "#  TaggedDocument(words=['i', 'love', 'coding', 'in', 'python'], tags=['1']),\n",
    "#  TaggedDocument(words=['i', 'love', 'building', 'chatbots'], tags=['2']),\n",
    "#  TaggedDocument(words=['they', 'chat', 'amagingly', 'well'], tags=['3'])]"
   ]
  },
  {
   "cell_type": "code",
   "execution_count": 43,
   "metadata": {},
   "outputs": [
    {
     "name": "stdout",
     "output_type": "stream",
     "text": [
      "**************************************************\n",
      "V1_infer [ 0.00649048 -0.01596985 -0.01124553 -0.00185211  0.00531147  0.00670751\n",
      " -0.00380727 -0.02258476 -0.02615076 -0.0206571  -0.02128661 -0.02280711\n",
      " -0.01100331 -0.02008787 -0.0160804   0.02307077 -0.0245235  -0.01585891\n",
      "  0.01246411 -0.02122281]\n",
      "***************************************************\n",
      "########################################\n",
      "[('2', 0.912226676940918), ('0', 0.7618046998977661), ('3', 0.7178292870521545)]\n",
      "####################################\n",
      "[-0.44645947  0.05181074 -0.46369132  0.07062578  0.60032445 -0.6622833\n",
      " -0.625254   -0.6537094   0.07582696 -0.7323618   0.29516125  0.50264066\n",
      " -0.7469842  -0.7266871  -0.28869122  0.07489765  0.00168621 -0.3514909\n",
      " -0.65987617  0.21526825]\n"
     ]
    },
    {
     "name": "stderr",
     "output_type": "stream",
     "text": [
      "<ipython-input-43-f9e7a7655d1e>:11: DeprecationWarning: Call to deprecated `docvecs` (The `docvecs` property has been renamed `dv`.).\n",
      "  similar_doc = model.docvecs.most_similar('1')\n",
      "<ipython-input-43-f9e7a7655d1e>:17: DeprecationWarning: Call to deprecated `docvecs` (The `docvecs` property has been renamed `dv`.).\n",
      "  print(model.docvecs['1'])\n"
     ]
    }
   ],
   "source": [
    "from gensim.models.doc2vec import Doc2Vec\n",
    "\n",
    "# model= Doc2Vec.load(\"d2v.model\")\n",
    "#to find the vector of a document which is not in training data\n",
    "test_data = word_tokenize(\"I love building\".lower())\n",
    "v1 = model.infer_vector(test_data)\n",
    "print(\"**************************************************\")\n",
    "print(\"V1_infer\", v1)\n",
    "print(\"***************************************************\")\n",
    "# to find most similar doc using tags\n",
    "similar_doc = model.docvecs.most_similar('1')\n",
    "print(\"########################################\")\n",
    "print(similar_doc)\n",
    "print(\"####################################\")\n",
    "\n",
    "# to find vector of doc in training data using tags or in other words, printing the vector of document at index 1 in training data\n",
    "print(model.docvecs['1'])"
   ]
  },
  {
   "cell_type": "code",
   "execution_count": null,
   "metadata": {},
   "outputs": [],
   "source": []
  },
  {
   "cell_type": "code",
   "execution_count": null,
   "metadata": {},
   "outputs": [],
   "source": []
  },
  {
   "cell_type": "code",
   "execution_count": null,
   "metadata": {},
   "outputs": [],
   "source": []
  },
  {
   "cell_type": "code",
   "execution_count": null,
   "metadata": {},
   "outputs": [],
   "source": []
  },
  {
   "cell_type": "code",
   "execution_count": null,
   "metadata": {},
   "outputs": [],
   "source": []
  },
  {
   "cell_type": "code",
   "execution_count": null,
   "metadata": {},
   "outputs": [],
   "source": []
  },
  {
   "cell_type": "code",
   "execution_count": 36,
   "metadata": {},
   "outputs": [],
   "source": [
    "import pandas as pd\n",
    "# from bert_serving.client import BertClient\n",
    "from elasticsearch import Elasticsearch"
   ]
  },
  {
   "cell_type": "code",
   "execution_count": 37,
   "metadata": {},
   "outputs": [],
   "source": [
    "es = Elasticsearch([{'host': 'localhost', 'port': 9200}])\n",
    "model= Doc2Vec.load(\"d2v.model\")"
   ]
  },
  {
   "cell_type": "code",
   "execution_count": 21,
   "metadata": {},
   "outputs": [],
   "source": [
    "def create_index():\n",
    "    request_body = {\n",
    "        \"settings\": {\n",
    "            \"number_of_shards\": 1,\n",
    "            \"number_of_replicas\": 0\n",
    "        },\n",
    "\n",
    "        'mappings': {\n",
    "                'properties': {\n",
    "                    'ticket': {\n",
    "                        'type': 'text'\n",
    "                    },\n",
    "                    'ticket_vector': {\n",
    "                            \"type\": \"dense_vector\",\n",
    "                            \"dims\": 20\n",
    "                          }\n",
    "                }}\n",
    "    }\n",
    "    print(\"creating 'qna_index' index...\")\n",
    "    create_index = es.indices.create(index=\"check_tickets\", body=request_body)\n",
    "    print(\"Index-\",create_index)\n"
   ]
  },
  {
   "cell_type": "code",
   "execution_count": 25,
   "metadata": {},
   "outputs": [
    {
     "name": "stdout",
     "output_type": "stream",
     "text": [
      "creating 'qna_index' index...\n",
      "Index- {'acknowledged': True, 'shards_acknowledged': True, 'index': 'check_tickets'}\n"
     ]
    }
   ],
   "source": [
    "a = create_index()"
   ]
  },
  {
   "cell_type": "code",
   "execution_count": 26,
   "metadata": {},
   "outputs": [],
   "source": [
    "def Create_Body(total, ticket_vector):\n",
    "    print(\"creating body\")\n",
    "    try:\n",
    "        RecordBody = {\n",
    "            \"ticket\": total ,\n",
    "            \"ticket_vector\": ticket_vector,\n",
    "             }\n",
    "\n",
    "        return RecordBody\n",
    "    except:\n",
    "        print(\"Body for this record cannot be created.\")"
   ]
  },
  {
   "cell_type": "code",
   "execution_count": 27,
   "metadata": {},
   "outputs": [],
   "source": [
    "def Index_Record(RecordBody):\n",
    "    output = es.index(index='check_tickets', body=RecordBody)\n",
    "    if (output['_id']):\n",
    "        return 1"
   ]
  },
  {
   "cell_type": "code",
   "execution_count": 30,
   "metadata": {},
   "outputs": [],
   "source": [
    "def insert_into_es():\n",
    "    print(\"inside dunc\")\n",
    "    total = [\"I love machine learning. Its awesome.\",\n",
    "        \"I love coding in python\",\n",
    "        \"I love building chatbots\",\n",
    "        \"they chat amagingly well\"]\n",
    "    for i in total:\n",
    "        print(i)\n",
    "        test_data = word_tokenize(i.lower())\n",
    "        ticket_vector = model.infer_vector(test_data)\n",
    "        print(ticket_vector)\n",
    "#         ticket_vector = ticket_vector[0].tolist()\n",
    "        print(ticket_vector)\n",
    "        record_body = Create_Body(i, ticket_vector)\n",
    "        print(record_body)\n",
    "        count = Index_Record(record_body)\n",
    "    print(\"DDDDDDDDDDDDDDDDDDDDDOOOOOOOOOOOOOONNNNEEEEEEEEEEEE\")"
   ]
  },
  {
   "cell_type": "code",
   "execution_count": 31,
   "metadata": {},
   "outputs": [
    {
     "name": "stdout",
     "output_type": "stream",
     "text": [
      "inside dunc\n",
      "I love machine learning. Its awesome.\n",
      "[-0.00615108  0.00183774 -0.02271492  0.00696359  0.03945305 -0.0244226\n",
      " -0.01748043 -0.00384978  0.00428472 -0.03002976 -0.01226205  0.03000083\n",
      " -0.02332551 -0.05103941 -0.02740873  0.0142898  -0.02631849 -0.00370299\n",
      " -0.0294555   0.02768894]\n",
      "[-0.00615108  0.00183774 -0.02271492  0.00696359  0.03945305 -0.0244226\n",
      " -0.01748043 -0.00384978  0.00428472 -0.03002976 -0.01226205  0.03000083\n",
      " -0.02332551 -0.05103941 -0.02740873  0.0142898  -0.02631849 -0.00370299\n",
      " -0.0294555   0.02768894]\n",
      "creating body\n",
      "{'ticket': 'I love machine learning. Its awesome.', 'ticket_vector': array([-0.00615108,  0.00183774, -0.02271492,  0.00696359,  0.03945305,\n",
      "       -0.0244226 , -0.01748043, -0.00384978,  0.00428472, -0.03002976,\n",
      "       -0.01226205,  0.03000083, -0.02332551, -0.05103941, -0.02740873,\n",
      "        0.0142898 , -0.02631849, -0.00370299, -0.0294555 ,  0.02768894],\n",
      "      dtype=float32)}\n",
      "I love coding in python\n",
      "[-0.02880793 -0.01530779  0.00467234 -0.0261547   0.02176885 -0.00550122\n",
      " -0.01976776 -0.03125361 -0.00220024 -0.00832464 -0.01466917 -0.00342218\n",
      "  0.00655278 -0.01616314 -0.01764126  0.00370719 -0.01513593 -0.0269107\n",
      " -0.01888674  0.00762184]\n",
      "[-0.02880793 -0.01530779  0.00467234 -0.0261547   0.02176885 -0.00550122\n",
      " -0.01976776 -0.03125361 -0.00220024 -0.00832464 -0.01466917 -0.00342218\n",
      "  0.00655278 -0.01616314 -0.01764126  0.00370719 -0.01513593 -0.0269107\n",
      " -0.01888674  0.00762184]\n",
      "creating body\n",
      "{'ticket': 'I love coding in python', 'ticket_vector': array([-0.02880793, -0.01530779,  0.00467234, -0.0261547 ,  0.02176885,\n",
      "       -0.00550122, -0.01976776, -0.03125361, -0.00220024, -0.00832464,\n",
      "       -0.01466917, -0.00342218,  0.00655278, -0.01616314, -0.01764126,\n",
      "        0.00370719, -0.01513593, -0.0269107 , -0.01888674,  0.00762184],\n",
      "      dtype=float32)}\n",
      "I love building chatbots\n",
      "[-0.00084871  0.01972608 -0.01127156  0.0124189  -0.01038084  0.00565742\n",
      " -0.01988143  0.01274455 -0.01468381  0.00285925  0.01849125 -0.01225744\n",
      "  0.01778741  0.01478061  0.00559614 -0.00564779  0.00109988 -0.02369515\n",
      " -0.01420282 -0.00204831]\n",
      "[-0.00084871  0.01972608 -0.01127156  0.0124189  -0.01038084  0.00565742\n",
      " -0.01988143  0.01274455 -0.01468381  0.00285925  0.01849125 -0.01225744\n",
      "  0.01778741  0.01478061  0.00559614 -0.00564779  0.00109988 -0.02369515\n",
      " -0.01420282 -0.00204831]\n",
      "creating body\n",
      "{'ticket': 'I love building chatbots', 'ticket_vector': array([-0.00084871,  0.01972608, -0.01127156,  0.0124189 , -0.01038084,\n",
      "        0.00565742, -0.01988143,  0.01274455, -0.01468381,  0.00285925,\n",
      "        0.01849125, -0.01225744,  0.01778741,  0.01478061,  0.00559614,\n",
      "       -0.00564779,  0.00109988, -0.02369515, -0.01420282, -0.00204831],\n",
      "      dtype=float32)}\n",
      "they chat amagingly well\n",
      "[ 0.01264139  0.01776397 -0.00605188 -0.01790125  0.00744373 -0.00222318\n",
      "  0.00464995 -0.01525552 -0.00998291 -0.01669948  0.00344659 -0.01449558\n",
      " -0.01565676 -0.02127722  0.00139563 -0.00989672  0.00080532 -0.00636837\n",
      " -0.00195862  0.01255285]\n",
      "[ 0.01264139  0.01776397 -0.00605188 -0.01790125  0.00744373 -0.00222318\n",
      "  0.00464995 -0.01525552 -0.00998291 -0.01669948  0.00344659 -0.01449558\n",
      " -0.01565676 -0.02127722  0.00139563 -0.00989672  0.00080532 -0.00636837\n",
      " -0.00195862  0.01255285]\n",
      "creating body\n",
      "{'ticket': 'they chat amagingly well', 'ticket_vector': array([ 0.01264139,  0.01776397, -0.00605188, -0.01790125,  0.00744373,\n",
      "       -0.00222318,  0.00464995, -0.01525552, -0.00998291, -0.01669948,\n",
      "        0.00344659, -0.01449558, -0.01565676, -0.02127722,  0.00139563,\n",
      "       -0.00989672,  0.00080532, -0.00636837, -0.00195862,  0.01255285],\n",
      "      dtype=float32)}\n",
      "DDDDDDDDDDDDDDDDDDDDDOOOOOOOOOOOOOONNNNEEEEEEEEEEEE\n"
     ]
    }
   ],
   "source": [
    "c = insert_into_es()"
   ]
  },
  {
   "cell_type": "code",
   "execution_count": null,
   "metadata": {},
   "outputs": [],
   "source": [
    "# test_data = word_tokenize(\"I love chatbots\".lower())\n",
    "# v1 = model.infer_vector(test_data)"
   ]
  },
  {
   "cell_type": "code",
   "execution_count": 5,
   "metadata": {},
   "outputs": [],
   "source": [
    "model =  Doc2Vec(vector_size=50, min_count=2, epochs=40)"
   ]
  },
  {
   "cell_type": "code",
   "execution_count": 6,
   "metadata": {},
   "outputs": [],
   "source": [
    "def query_index(new_question):\n",
    "    test_data = word_tokenize(new_question.lower())\n",
    "    query_vector  =  model.infer_vector(test_data)\n",
    "#    query_vector = query_vector[0].tolist()\n",
    "    #print(\"LEN-\",len(query_vector))\n",
    "    num_outputs=3\n",
    "    query = {\n",
    "    \"script_score\": {\n",
    "        \"query\": {\"match_all\": {}},\n",
    "        \"script\": {\n",
    "        \"source\": \"cosineSimilarity(params.query_vector, 'ticket_vector') +1.0\",\n",
    "        \"params\": {\"query_vector\": query_vector}\n",
    "        }\n",
    "    }\n",
    "    }\n",
    "\n",
    "    body = {\n",
    "        \"size\": num_outputs,\n",
    "        \"query\": query,\n",
    "    }\n",
    "\n",
    "    output = es.search(body=body,index=\"check_tickets\")\n",
    "    # print(output)\n",
    "    if len(output['hits']['hits']) >= 4:\n",
    "        iter_len = 4\n",
    "    else:\n",
    "        iter_len = len(output['hits']['hits'])\n",
    "    for i in range(iter_len):\n",
    "        \n",
    "        tmp = output['hits']['hits'][i]\n",
    "        print(\"#\"*100)\n",
    "        print(\"I-\",i)\n",
    "        #print(\"Top -\",(i+1),\": Score -\",output['hits']['hits'][i]['_score'])\n",
    "        #print(\"question-\",(tmp['_source']['question']))\n",
    "\n",
    "        question = (tmp['_source']['ticket'])\n",
    "        print(question)\n"
   ]
  },
  {
   "cell_type": "code",
   "execution_count": 7,
   "metadata": {},
   "outputs": [
    {
     "ename": "AttributeError",
     "evalue": "'Doc2Vec' object has no attribute 'syn1neg'",
     "output_type": "error",
     "traceback": [
      "\u001b[1;31m---------------------------------------------------------------------------\u001b[0m",
      "\u001b[1;31mAttributeError\u001b[0m                            Traceback (most recent call last)",
      "\u001b[1;32m<ipython-input-7-27ae39dd5318>\u001b[0m in \u001b[0;36m<module>\u001b[1;34m\u001b[0m\n\u001b[1;32m----> 1\u001b[1;33m \u001b[0mquery_index\u001b[0m\u001b[1;33m(\u001b[0m\u001b[1;34m\"I love coding in python\"\u001b[0m\u001b[1;33m)\u001b[0m\u001b[1;33m\u001b[0m\u001b[1;33m\u001b[0m\u001b[0m\n\u001b[0m",
      "\u001b[1;32m<ipython-input-6-76febb60899c>\u001b[0m in \u001b[0;36mquery_index\u001b[1;34m(new_question)\u001b[0m\n\u001b[0;32m      1\u001b[0m \u001b[1;32mdef\u001b[0m \u001b[0mquery_index\u001b[0m\u001b[1;33m(\u001b[0m\u001b[0mnew_question\u001b[0m\u001b[1;33m)\u001b[0m\u001b[1;33m:\u001b[0m\u001b[1;33m\u001b[0m\u001b[1;33m\u001b[0m\u001b[0m\n\u001b[0;32m      2\u001b[0m     \u001b[0mtest_data\u001b[0m \u001b[1;33m=\u001b[0m \u001b[0mword_tokenize\u001b[0m\u001b[1;33m(\u001b[0m\u001b[0mnew_question\u001b[0m\u001b[1;33m.\u001b[0m\u001b[0mlower\u001b[0m\u001b[1;33m(\u001b[0m\u001b[1;33m)\u001b[0m\u001b[1;33m)\u001b[0m\u001b[1;33m\u001b[0m\u001b[1;33m\u001b[0m\u001b[0m\n\u001b[1;32m----> 3\u001b[1;33m     \u001b[0mquery_vector\u001b[0m  \u001b[1;33m=\u001b[0m  \u001b[0mmodel\u001b[0m\u001b[1;33m.\u001b[0m\u001b[0minfer_vector\u001b[0m\u001b[1;33m(\u001b[0m\u001b[0mtest_data\u001b[0m\u001b[1;33m)\u001b[0m\u001b[1;33m\u001b[0m\u001b[1;33m\u001b[0m\u001b[0m\n\u001b[0m\u001b[0;32m      4\u001b[0m \u001b[1;31m#    query_vector = query_vector[0].tolist()\u001b[0m\u001b[1;33m\u001b[0m\u001b[1;33m\u001b[0m\u001b[1;33m\u001b[0m\u001b[0m\n\u001b[0;32m      5\u001b[0m     \u001b[1;31m#print(\"LEN-\",len(query_vector))\u001b[0m\u001b[1;33m\u001b[0m\u001b[1;33m\u001b[0m\u001b[1;33m\u001b[0m\u001b[0m\n",
      "\u001b[1;32m~\\Anaconda3\\lib\\site-packages\\gensim\\models\\doc2vec.py\u001b[0m in \u001b[0;36minfer_vector\u001b[1;34m(self, doc_words, alpha, min_alpha, epochs, steps)\u001b[0m\n\u001b[0;32m    635\u001b[0m                 )\n\u001b[0;32m    636\u001b[0m             \u001b[1;32melse\u001b[0m\u001b[1;33m:\u001b[0m\u001b[1;33m\u001b[0m\u001b[1;33m\u001b[0m\u001b[0m\n\u001b[1;32m--> 637\u001b[1;33m                 train_document_dm(\n\u001b[0m\u001b[0;32m    638\u001b[0m                     \u001b[0mself\u001b[0m\u001b[1;33m,\u001b[0m \u001b[0mdoc_words\u001b[0m\u001b[1;33m,\u001b[0m \u001b[0mdoctag_indexes\u001b[0m\u001b[1;33m,\u001b[0m \u001b[0malpha\u001b[0m\u001b[1;33m,\u001b[0m \u001b[0mwork\u001b[0m\u001b[1;33m,\u001b[0m \u001b[0mneu1\u001b[0m\u001b[1;33m,\u001b[0m\u001b[1;33m\u001b[0m\u001b[1;33m\u001b[0m\u001b[0m\n\u001b[0;32m    639\u001b[0m                     \u001b[0mlearn_words\u001b[0m\u001b[1;33m=\u001b[0m\u001b[1;32mFalse\u001b[0m\u001b[1;33m,\u001b[0m \u001b[0mlearn_hidden\u001b[0m\u001b[1;33m=\u001b[0m\u001b[1;32mFalse\u001b[0m\u001b[1;33m,\u001b[0m \u001b[0mdoctag_vectors\u001b[0m\u001b[1;33m=\u001b[0m\u001b[0mdoctag_vectors\u001b[0m\u001b[1;33m,\u001b[0m \u001b[0mdoctags_lockf\u001b[0m\u001b[1;33m=\u001b[0m\u001b[0mdoctags_lockf\u001b[0m\u001b[1;33m\u001b[0m\u001b[1;33m\u001b[0m\u001b[0m\n",
      "\u001b[1;32m~\\Anaconda3\\lib\\site-packages\\gensim\\models\\doc2vec_inner.pyx\u001b[0m in \u001b[0;36mgensim.models.doc2vec_inner.train_document_dm\u001b[1;34m()\u001b[0m\n",
      "\u001b[1;32m~\\Anaconda3\\lib\\site-packages\\gensim\\models\\doc2vec_inner.pyx\u001b[0m in \u001b[0;36mgensim.models.doc2vec_inner.init_d2v_config\u001b[1;34m()\u001b[0m\n",
      "\u001b[1;31mAttributeError\u001b[0m: 'Doc2Vec' object has no attribute 'syn1neg'"
     ]
    }
   ],
   "source": [
    "query_index(\"I love coding in python\")"
   ]
  },
  {
   "cell_type": "code",
   "execution_count": null,
   "metadata": {},
   "outputs": [],
   "source": []
  },
  {
   "cell_type": "code",
   "execution_count": null,
   "metadata": {},
   "outputs": [],
   "source": []
  },
  {
   "cell_type": "code",
   "execution_count": null,
   "metadata": {},
   "outputs": [],
   "source": []
  }
 ],
 "metadata": {
  "kernelspec": {
   "display_name": "Python 3",
   "language": "python",
   "name": "python3"
  },
  "language_info": {
   "codemirror_mode": {
    "name": "ipython",
    "version": 3
   },
   "file_extension": ".py",
   "mimetype": "text/x-python",
   "name": "python",
   "nbconvert_exporter": "python",
   "pygments_lexer": "ipython3",
   "version": "3.8.5"
  }
 },
 "nbformat": 4,
 "nbformat_minor": 4
}
